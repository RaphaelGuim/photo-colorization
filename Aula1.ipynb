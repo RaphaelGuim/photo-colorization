{
  "nbformat": 4,
  "nbformat_minor": 0,
  "metadata": {
    "colab": {
      "name": "Aula1.ipynb",
      "provenance": [],
      "collapsed_sections": [],
      "authorship_tag": "ABX9TyOMuP5jjN50bKf8LuGcDdtv",
      "include_colab_link": true
    },
    "kernelspec": {
      "name": "python3",
      "display_name": "Python 3"
    }
  },
  "cells": [
    {
      "cell_type": "markdown",
      "metadata": {
        "id": "view-in-github",
        "colab_type": "text"
      },
      "source": [
        "<a href=\"https://colab.research.google.com/github/RaphaelGuim/photo-colorization/blob/master/Aula1.ipynb\" target=\"_parent\"><img src=\"https://colab.research.google.com/assets/colab-badge.svg\" alt=\"Open In Colab\"/></a>"
      ]
    },
    {
      "cell_type": "markdown",
      "metadata": {
        "id": "u-_fWVCfOg0u"
      },
      "source": [
        "# \"Testado Blog FastPages\"\n",
        "> \"Só um teste\"\n",
        "\n",
        "- toc: false\n",
        "- branch: master\n",
        "- badges: true\n",
        "- comments: true\n",
        "- categories: [fastpages, jupyter]\n",
        "- hide: false\n",
        "- search_exclude: true\n"
      ]
    },
    {
      "cell_type": "code",
      "metadata": {
        "colab": {
          "base_uri": "https://localhost:8080/"
        },
        "id": "NRLloExtOiE5",
        "outputId": "e013128c-7a24-45b8-f7fe-864e3292193a"
      },
      "source": [
        "!wget \"https://raw.githubusercontent.com/RaphaelGuim/data-science/master/image-colorizer/deoldify_wrapper.py\""
      ],
      "execution_count": 6,
      "outputs": [
        {
          "output_type": "stream",
          "text": [
            "--2021-02-11 23:28:57--  https://raw.githubusercontent.com/RaphaelGuim/data-science/master/image-colorizer/deoldify_wrapper.py\n",
            "Resolving raw.githubusercontent.com (raw.githubusercontent.com)... 185.199.108.133, 185.199.109.133, 185.199.110.133, ...\n",
            "Connecting to raw.githubusercontent.com (raw.githubusercontent.com)|185.199.108.133|:443... connected.\n",
            "HTTP request sent, awaiting response... 200 OK\n",
            "Length: 2623 (2.6K) [text/plain]\n",
            "Saving to: ‘deoldify_wrapper.py’\n",
            "\n",
            "deoldify_wrapper.py 100%[===================>]   2.56K  --.-KB/s    in 0s      \n",
            "\n",
            "2021-02-11 23:28:57 (35.8 MB/s) - ‘deoldify_wrapper.py’ saved [2623/2623]\n",
            "\n"
          ],
          "name": "stdout"
        }
      ]
    },
    {
      "cell_type": "code",
      "metadata": {
        "colab": {
          "base_uri": "https://localhost:8080/"
        },
        "id": "VbGV-xndQ0hk",
        "outputId": "3c2d037e-6ca6-4e9f-e58a-6084ba5dcd0a"
      },
      "source": [
        ""
      ],
      "execution_count": 7,
      "outputs": [
        {
          "output_type": "stream",
          "text": [
            "/\n"
          ],
          "name": "stdout"
        }
      ]
    },
    {
      "cell_type": "code",
      "metadata": {
        "id": "gVCCxLUgY2AQ",
        "outputId": "4dfb3c40-2c9d-4d26-ad53-59d190d918f6",
        "colab": {
          "base_uri": "https://localhost:8080/"
        }
      },
      "source": [
        "from deoldify_wrapper import DeOldify"
      ],
      "execution_count": 8,
      "outputs": [
        {
          "output_type": "stream",
          "text": [
            "  Importing Libraries\n",
            "No module named 'deoldify'\n",
            "DeOldify not found, installing..\n",
            "  Cloning DeOldify Repository...\n",
            "  Opening DeOldify Folder\n",
            "  Importing Libraries\n"
          ],
          "name": "stdout"
        },
        {
          "output_type": "stream",
          "text": [
            "/deoldify_wrapper.py:36: UserWarning: WARNING: GPU not available. Activate it on Colab at Edit > Notebook Settings\n",
            "  warnings.warn('WARNING: GPU not available. Activate it on Colab at Edit > Notebook Settings')\n"
          ],
          "name": "stderr"
        },
        {
          "output_type": "stream",
          "text": [
            "  Installing Colab requirements...\n",
            "  Importing DeOldify Visualize module and FastAI\n",
            "  Downloading Colorizer Model\n"
          ],
          "name": "stdout"
        }
      ]
    },
    {
      "cell_type": "code",
      "metadata": {
        "id": "6TfDwmXcY2jC"
      },
      "source": [
        ""
      ],
      "execution_count": null,
      "outputs": []
    },
    {
      "cell_type": "code",
      "metadata": {
        "id": "eyg6cSGwSWRS"
      },
      "source": [
        "deo = DeOldify()"
      ],
      "execution_count": null,
      "outputs": []
    },
    {
      "cell_type": "code",
      "metadata": {
        "id": "56i425OMTuo9"
      },
      "source": [
        "deo.colorize(\"https://i.imgur.com/rZ2HN2g.jpg\")"
      ],
      "execution_count": null,
      "outputs": []
    },
    {
      "cell_type": "code",
      "metadata": {
        "id": "eSHxF0RHT7QY"
      },
      "source": [
        "deo.colorize(\"https://i.imgur.com/OQmXTUW.jpg\")"
      ],
      "execution_count": null,
      "outputs": []
    },
    {
      "cell_type": "code",
      "metadata": {
        "id": "qwB_KyVbWS0y"
      },
      "source": [
        "deo.colorize(\"https://i.imgur.com/KIBNYhP.jpg\")"
      ],
      "execution_count": null,
      "outputs": []
    },
    {
      "cell_type": "code",
      "metadata": {
        "id": "e2ce7hbBWbmB"
      },
      "source": [
        "deo.colorize(\"https://i.imgur.com/RuAR76c.jpg\")"
      ],
      "execution_count": null,
      "outputs": []
    },
    {
      "cell_type": "code",
      "metadata": {
        "id": "54U5JFDZW1Zb"
      },
      "source": [
        ""
      ],
      "execution_count": null,
      "outputs": []
    }
  ]
}